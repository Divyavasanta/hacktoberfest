{
  "nbformat": 4,
  "nbformat_minor": 0,
  "metadata": {
    "colab": {
      "provenance": [],
      "authorship_tag": "ABX9TyOT7DvTO0tWUxD4s/FVQRVE",
      "include_colab_link": true
    },
    "kernelspec": {
      "name": "python3",
      "display_name": "Python 3"
    },
    "language_info": {
      "name": "python"
    }
  },
  "cells": [
    {
      "cell_type": "markdown",
      "metadata": {
        "id": "view-in-github",
        "colab_type": "text"
      },
      "source": [
        "<a href=\"https://colab.research.google.com/github/Divyavasanta/hacktoberfest/blob/main/Divya_project1_.ipynb\" target=\"_parent\"><img src=\"https://colab.research.google.com/assets/colab-badge.svg\" alt=\"Open In Colab\"/></a>"
      ]
    },
    {
      "cell_type": "markdown",
      "source": [
        "SQL Generator: Transforming Natural Language Queries into\n",
        "Database-Ready SQL"
      ],
      "metadata": {
        "id": "VwhtUN1nVzrA"
      }
    },
    {
      "cell_type": "code",
      "execution_count": null,
      "metadata": {
        "collapsed": true,
        "id": "iNjKAbYjVsdf"
      },
      "outputs": [],
      "source": [
        "pip install spacy\n"
      ]
    },
    {
      "cell_type": "code",
      "source": [
        "!python -m spacy download en_core_web_sm\n"
      ],
      "metadata": {
        "collapsed": true,
        "id": "-ZA2SJCPXH5k"
      },
      "execution_count": null,
      "outputs": []
    },
    {
      "cell_type": "code",
      "source": [
        "import spacy\n",
        "print(spacy.util.get_installed_models())\n"
      ],
      "metadata": {
        "colab": {
          "base_uri": "https://localhost:8080/"
        },
        "id": "gmJYtDQWYVqS",
        "outputId": "b0033211-15ce-43a2-af7a-9690694a03d6"
      },
      "execution_count": 1,
      "outputs": [
        {
          "output_type": "stream",
          "name": "stdout",
          "text": [
            "['en_core_web_sm']\n"
          ]
        }
      ]
    },
    {
      "cell_type": "code",
      "source": [
        "import spacy"
      ],
      "metadata": {
        "id": "8CqPO4yuZQxh"
      },
      "execution_count": 2,
      "outputs": []
    },
    {
      "cell_type": "code",
      "source": [
        "nlp = spacy.load('en_core_web_sm')"
      ],
      "metadata": {
        "id": "Nyx6NiDDhyjX"
      },
      "execution_count": 11,
      "outputs": []
    },
    {
      "cell_type": "code",
      "source": [
        "SCHEMA = {\n",
        "    \"OrderHeader\": [\"orderId\", \"orderTypeId\", \"orderName\", \"salesChannelEnumId\", \"orderDate\", \"entryDate\", \"orderStatus\", \"productStoreId\", \"grandTotal\"],\n",
        "    \"OrderItems\": [\"orderId\", \"orderItemSeqId\", \"productId\", \"quantity\", \"unitPrice\", \"statusId\"],\n",
        "    \"OrderItemShipGroup\": [\"orderId\", \"shipGroupSeqId\", \"shipmentMethodTypeId\", \"facilityId\", \"contactMechId\"],\n",
        "    \"OrderContactMech\": [\"orderId\", \"contactMechId\", \"contactMechPurposeTypeId\"],\n",
        "    \"PostalAddress\": [\"contactMechId\", \"toName\", \"address1\", \"city\", \"postalCode\", \"countryGeoId\"],\n",
        "    \"OrderAdjustment\": [\"orderAdjustmentId\", \"orderAdjustmentTypeId\", \"orderId\", \"orderItemSeqId\", \"shipGroupSeqId\", \"amount\", \"createdDate\"]\n",
        "}\n"
      ],
      "metadata": {
        "id": "etD1-EnpZbx1"
      },
      "execution_count": 37,
      "outputs": []
    },
    {
      "cell_type": "code",
      "source": [
        "table_synonyms = {\n",
        "    \"orders\": \"OrderHeader\",\n",
        "    \"order\": \"OrderHeader\",\n",
        "    \"order items\": \"OrderItems\",\n",
        "    \"items\": \"OrderItems\",\n",
        "    \"address\": \"PostalAddress\",\n",
        "    \"adjustments\": \"OrderAdjustment\",\n",
        "    \"order adjustments\": \"OrderAdjustment\",\n",
        "    \"shipping group\": \"OrderItemShipGroup\"\n",
        "}"
      ],
      "metadata": {
        "id": "kEFtkc36sckH"
      },
      "execution_count": 38,
      "outputs": []
    },
    {
      "cell_type": "code",
      "source": [
        "def extract_keywords(query):\n",
        "    doc = nlp(query)\n",
        "    action = None\n",
        "    tables = []\n",
        "    conditions = []\n",
        "\n",
        "    select_keywords = [\"get\", \"retrieve\", \"show\", \"find\"]\n",
        "    condition_keywords = [\"where\", \"in\", \"for\", \"with\"]\n",
        "\n",
        "    for token in doc:\n",
        "        if token.lemma_ in select_keywords:\n",
        "            action = \"SELECT\"\n",
        "        elif token.text.lower() in table_synonyms:\n",
        "            tables.append(table_synonyms[token.text.lower()])\n",
        "        elif token.text.lower() in condition_keywords:\n",
        "            condition_start = token.i + 1\n",
        "            condition = ' '.join([t.text for t in doc[condition_start:]])\n",
        "            conditions.append(condition)\n",
        "\n",
        "    return action, tables, conditions"
      ],
      "metadata": {
        "id": "xEADfw7iZvXA"
      },
      "execution_count": 39,
      "outputs": []
    },
    {
      "cell_type": "code",
      "source": [
        "def generate_sql(action, tables, conditions):\n",
        "    if not action or not tables:\n",
        "        return \"Invalid query. Could not detect necessary SQL components.\"\n",
        "\n",
        "    sql_query = f\"{action} * FROM {', '.join(tables)}\"\n",
        "\n",
        "    if conditions:\n",
        "        sql_query += \" WHERE \" + \" AND \".join(conditions)\n",
        "\n",
        "    return sql_query\n",
        "\n",
        "def user_query_to_sql():\n",
        "    query = input(\"Enter your query: \")\n",
        "    action, tables, conditions = extract_keywords(query)\n",
        "    sql = generate_sql(action, tables, conditions)\n",
        "    print(f\"Generated SQL: {sql}\")\n",
        "\n",
        "user_query_to_sql()"
      ],
      "metadata": {
        "colab": {
          "base_uri": "https://localhost:8080/"
        },
        "id": "MPN8-oSLjtnK",
        "outputId": "626728a8-8171-4338-ec90-d6ccf3f985e3"
      },
      "execution_count": 42,
      "outputs": [
        {
          "output_type": "stream",
          "name": "stdout",
          "text": [
            "Enter your query: Get all completed orders \n",
            "Generated SQL: SELECT * FROM OrderHeader\n"
          ]
        }
      ]
    },
    {
      "cell_type": "code",
      "source": [],
      "metadata": {
        "id": "wjFwTUcnCME7"
      },
      "execution_count": null,
      "outputs": []
    }
  ]
}